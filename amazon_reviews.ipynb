{
  "nbformat": 4,
  "nbformat_minor": 0,
  "metadata": {
    "colab": {
      "provenance": []
    },
    "kernelspec": {
      "name": "python3",
      "display_name": "Python 3"
    },
    "language_info": {
      "name": "python"
    }
  },
  "cells": [
    {
      "cell_type": "code",
      "execution_count": 1,
      "metadata": {
        "colab": {
          "base_uri": "https://localhost:8080/"
        },
        "id": "BFOjGOsBd28b",
        "outputId": "6fb1b60e-5400-4301-ad98-e3b1a0868dfe"
      },
      "outputs": [
        {
          "output_type": "stream",
          "name": "stdout",
          "text": [
            "Collecting en-core-web-sm==3.8.0\n",
            "  Downloading https://github.com/explosion/spacy-models/releases/download/en_core_web_sm-3.8.0/en_core_web_sm-3.8.0-py3-none-any.whl (12.8 MB)\n",
            "\u001b[2K     \u001b[90m━━━━━━━━━━━━━━━━━━━━━━━━━━━━━━━━━━━━━━━━\u001b[0m \u001b[32m12.8/12.8 MB\u001b[0m \u001b[31m60.2 MB/s\u001b[0m eta \u001b[36m0:00:00\u001b[0m\n",
            "\u001b[?25h\u001b[38;5;2m✔ Download and installation successful\u001b[0m\n",
            "You can now load the package via spacy.load('en_core_web_sm')\n",
            "\u001b[38;5;3m⚠ Restart to reload dependencies\u001b[0m\n",
            "If you are in a Jupyter or Colab notebook, you may need to restart Python in\n",
            "order to load all the package's dependencies. You can do this by selecting the\n",
            "'Restart kernel' or 'Restart runtime' option.\n",
            "🔍 Named Entities:\n",
            "\n",
            "Review: I love my new Apple AirPods Pro! The sound quality is amazing.\n",
            " - Apple AirPods (ORG)\n",
            "\n",
            "Review: The Samsung Galaxy phone is too expensive for its features.\n",
            " - Samsung Galaxy (ORG)\n",
            "\n",
            "Review: Got a Nike running shoe and it's super comfortable.\n",
            " - Nike (ORG)\n",
            "\n",
            "Review: Avoid this cheap charger from TechMax, it broke in 2 days.\n",
            " - TechMax (ORG)\n",
            " - 2 days (DATE)\n",
            "\n",
            "Review: The Logitech wireless mouse works flawlessly — very impressed!\n",
            " - Logitech (ORG)\n",
            "\n",
            "🧠 Sentiment Analysis:\n",
            "- Review: \"I love my new Apple AirPods Pro! The sound quality is amazing.\" → Sentiment: Positive\n",
            "- Review: \"The Samsung Galaxy phone is too expensive for its features.\" → Sentiment: Negative\n",
            "- Review: \"Got a Nike running shoe and it's super comfortable.\" → Sentiment: Positive\n",
            "- Review: \"Avoid this cheap charger from TechMax, it broke in 2 days.\" → Sentiment: Negative\n",
            "- Review: \"The Logitech wireless mouse works flawlessly — very impressed!\" → Sentiment: Positive\n"
          ]
        }
      ],
      "source": [
        "# ✅ Step 1: Install & Import spaCy\n",
        "!pip install -q spacy\n",
        "import spacy\n",
        "\n",
        "# ✅ Step 2: Load English NLP model\n",
        "!python -m spacy download en_core_web_sm\n",
        "nlp = spacy.load(\"en_core_web_sm\")\n",
        "\n",
        "# ✅ Step 3: Sample Amazon Product Reviews\n",
        "reviews = [\n",
        "    \"I love my new Apple AirPods Pro! The sound quality is amazing.\",\n",
        "    \"The Samsung Galaxy phone is too expensive for its features.\",\n",
        "    \"Got a Nike running shoe and it's super comfortable.\",\n",
        "    \"Avoid this cheap charger from TechMax, it broke in 2 days.\",\n",
        "    \"The Logitech wireless mouse works flawlessly — very impressed!\"\n",
        "]\n",
        "\n",
        "# ✅ Step 4: Named Entity Recognition (NER)\n",
        "print(\"🔍 Named Entities:\")\n",
        "for review in reviews:\n",
        "    doc = nlp(review)\n",
        "    print(f\"\\nReview: {review}\")\n",
        "    for ent in doc.ents:\n",
        "        print(f\" - {ent.text} ({ent.label_})\")\n",
        "\n",
        "# ✅ Step 5: Rule-based Sentiment Analysis (Simple)\n",
        "positive_words = ['love', 'amazing', 'comfortable', 'flawlessly', 'impressed']\n",
        "negative_words = ['expensive', 'avoid', 'cheap', 'broke']\n",
        "\n",
        "print(\"\\n🧠 Sentiment Analysis:\")\n",
        "for review in reviews:\n",
        "    review_lower = review.lower()\n",
        "    sentiment = \"Neutral\"\n",
        "    if any(word in review_lower for word in positive_words):\n",
        "        sentiment = \"Positive\"\n",
        "    elif any(word in review_lower for word in negative_words):\n",
        "        sentiment = \"Negative\"\n",
        "    print(f\"- Review: \\\"{review}\\\" → Sentiment: {sentiment}\")\n"
      ]
    }
  ]
}